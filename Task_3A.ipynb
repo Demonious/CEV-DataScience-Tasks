{
  "nbformat": 4,
  "nbformat_minor": 0,
  "metadata": {
    "colab": {
      "provenance": [],
      "collapsed_sections": [],
      "authorship_tag": "ABX9TyPTYS3mNcXPSqA4ibwvCICi",
      "include_colab_link": true
    },
    "kernelspec": {
      "name": "python3",
      "display_name": "Python 3"
    },
    "language_info": {
      "name": "python"
    }
  },
  "cells": [
    {
      "cell_type": "markdown",
      "metadata": {
        "id": "view-in-github",
        "colab_type": "text"
      },
      "source": [
        "<a href=\"https://colab.research.google.com/github/Demonious/CEV-DataScience-Tasks/blob/main/Task_3A.ipynb\" target=\"_parent\"><img src=\"https://colab.research.google.com/assets/colab-badge.svg\" alt=\"Open In Colab\"/></a>"
      ]
    },
    {
      "cell_type": "markdown",
      "source": [
        "Task-3A: Please provide a similar table for your favorite 7 cities of Turkey that include their area and population."
      ],
      "metadata": {
        "id": "AHpMBZn-5Wjm"
      }
    },
    {
      "cell_type": "code",
      "execution_count": 10,
      "metadata": {
        "colab": {
          "base_uri": "https://localhost:8080/"
        },
        "id": "suYO-oiz5Rp-",
        "outputId": "ec371d5d-24b5-4252-c449-60ff097010af"
      },
      "outputs": [
        {
          "output_type": "stream",
          "name": "stdout",
          "text": [
            "['Adana' 'Adıyaman' 'Afyonkarahisar' 'Ağrı' 'Amasya' 'Ankara' 'Antalya']\n",
            "[2263373  632148  744179  524644  335331 5747325 2619832]\n"
          ]
        }
      ],
      "source": [
        "import pandas as pd\n",
        "import numpy as np\n",
        "\n",
        "data = pd.read_csv('provience-population-plate-area.csv')\n",
        "provience = np.array(data['provience'])\n",
        "population = np.array(data['population'])\n",
        "plate = np.array(data['plate'])\n",
        "#Cities with the first 7 license plates were selected from csv.\n",
        "\n",
        "print(provience[:7])\n",
        "print(population[:7])"
      ]
    }
  ]
}