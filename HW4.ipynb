{
  "nbformat": 4,
  "nbformat_minor": 0,
  "metadata": {
    "colab": {
      "provenance": [],
      "authorship_tag": "ABX9TyMa+xc+KjUgjRd/L8wXurYi",
      "include_colab_link": true
    },
    "kernelspec": {
      "name": "python3",
      "display_name": "Python 3"
    },
    "language_info": {
      "name": "python"
    }
  },
  "cells": [
    {
      "cell_type": "markdown",
      "metadata": {
        "id": "view-in-github",
        "colab_type": "text"
      },
      "source": [
        "<a href=\"https://colab.research.google.com/github/Demonious/CEV-DataScience-Tasks/blob/main/HW4.ipynb\" target=\"_parent\"><img src=\"https://colab.research.google.com/assets/colab-badge.svg\" alt=\"Open In Colab\"/></a>"
      ]
    },
    {
      "cell_type": "code",
      "execution_count": 1,
      "metadata": {
        "colab": {
          "base_uri": "https://localhost:8080/"
        },
        "id": "SubO3egawLrr",
        "outputId": "4b34e317-28de-45e6-8495-d5d27852505d"
      },
      "outputs": [
        {
          "output_type": "stream",
          "name": "stdout",
          "text": [
            "14\n"
          ]
        }
      ],
      "source": [
        "#100 katlı bina var 2 adet yumurta ile sadece tek sefer kullanmak şartı en az kaç defada yumurtanın kırılmadığı katı bulabiliriz?\n",
        "import math\n",
        "x=1000000\n",
        "for i in range(2,100):\n",
        "  m=0\n",
        "  m+=(math.floor(100/i)+math.floor((i-1)/2)+math.floor((100%i)/2))\n",
        "  x=min(x,m)\n",
        "print(x)"
      ]
    },
    {
      "cell_type": "markdown",
      "source": [
        "#Görüntü işleme aşamlarını sırası ile tarif ediniz.\n",
        "* Elde Etme: Sayısal görüntü sayısal kamera ile elde edilir.\n",
        "* Ön İşleme: Sayısal görüntüyü kullanmadan önce bazı ön işlemlerden geçirmek gerekir.\n",
        "* Bölümleme:Bu kısımda amaç görüntü içerisindeki nesne ve alanların değişik özelliklerinin tespit edilip birbirinden ayrılmasıdır.\n",
        "* Çıkarım: Elde edilen ham bilgilerin, istenilen farklı özelliklerin, ayrıntıların ön plana çıkarılmasıdır.\n",
        "* Yorumlama: Bu son kısımda artık bazı yapay zeka algoritmaları ile işlenen görüntü içerisindeki farklı nesnelerin ve alanların sınıflara ayrılması ve etiketlendirilmesi yapılır."
      ],
      "metadata": {
        "id": "uUY68ftBwSnE"
      }
    },
    {
      "cell_type": "markdown",
      "source": [
        "#Feature map veya bir sonraki layerın boyutlarını belirleyen özellikler nelerdir. Açıklayınız.\n",
        "* İnputun boyutlarıyla birlikte Kernel'ın/filtrenin boyutları,Pooling ve/veya Padding yapılması, Stride(adım boyu)/Filtrenin hareket boyu ve dept yani uygulanan filtrenin sayısı sonunda çıkıcak olan Feature Mapin ve sonraki Layerin boyutunu belirleyecektir."
      ],
      "metadata": {
        "id": "oFpzTnFbwiYe"
      }
    },
    {
      "cell_type": "markdown",
      "source": [
        "#Softmax nedir? Ne işe yarar?\n",
        "* Softmax Fonksiyonu: Çoklu sınıflandırma problemleri için kullanılan bu fonksiyon, verilen her bir girdinin bir sınıfa ait olma olasılığını gösteren [0,1] arası çıktılar üretmektedir."
      ],
      "metadata": {
        "id": "TtKpjJwXwnQZ"
      }
    },
    {
      "cell_type": "markdown",
      "source": [
        "#Aktivasyon fonskiyonlarının kullanım amaçları nedir? 3 adet örnek veriniz. Amaçlarını açıklayınız.\n",
        "\n",
        " *Yapay sinir ağlarına doğrusal olmayan gerçek dünya özelliklerini tanıtmak için aktivasyon fonksiyonuna ihtiyaç duyarız. Temel olarak basit bir yapay sinir ağında x girdiler,** w** ağırlıklar olarak tanımlanır ve ağın çıkışına aktarılan değere f(x) yani aktivasyon işlemi uygularız. Daha sonra bu, nihai çıkış ya da bir başka katmanın girişi olacaktır.\n",
        "* ReLU (Rectified Linear Unit) Fonksiyonu\n",
        "* Doğrusal (Linear) Fonksiyon\n",
        "* Sigmoid Fonksiyonu"
      ],
      "metadata": {
        "id": "M7r8owqRw453"
      }
    },
    {
      "cell_type": "markdown",
      "source": [
        "#32,32 lik image olduğunu düşünelim 2,2 like Max pooling sonucunda çıktı hangi boyutta olur?  \n",
        "*31.0"
      ],
      "metadata": {
        "id": "WKclC3mmxJ2a"
      }
    },
    {
      "cell_type": "markdown",
      "source": [
        "#Droupout'un amacı nedir?\n",
        " *Dropout kullanılarak fully-connected layerlardaki bağlar koparılır. Böylece node'lar birbiri hakkında daha az bilgiye sahip olur ve bunun doğal sonucu olarak node'lar birbirlerinin ağırlık değişimlerinden daha az etkilenirler.\n"
      ],
      "metadata": {
        "id": "q6vtFE9GxP28"
      }
    },
    {
      "cell_type": "markdown",
      "source": [
        "#Görüntü işleme yöntemleri için kullanılan 3 adet framework belirtiniz.\n",
        "* OpenCV\n",
        "* EmguCV\n",
        "*Tensorflow\n"
      ],
      "metadata": {
        "id": "WtppXYecxbbQ"
      }
    },
    {
      "cell_type": "markdown",
      "source": [
        "\n",
        "#Niçin imajlar için ANN yerine CNN kullanıyoruz?\n",
        "*ANN ile somut veri noktaları sağlanmalıdır. CNN kullanırken, bu uzamsal özellikler görüntü girişinden çıkarılır. Öncekilere kıyasla cnn'in en büyük avantajı, önemli özellikleri herhangi bir insan gözetimi olmadan otomatik olarak algılamasıdır. Bu nedenle CNN, bilgisayarla görme ve görüntü sınıflandırma sorunlarına ideal bir çözüm olacaktır.\n",
        "\n",
        "\n"
      ],
      "metadata": {
        "id": "nA2qpxh-xdRh"
      }
    },
    {
      "cell_type": "markdown",
      "source": [
        "#CNN ağları için dimension reduction mümkünmüdür? Mümkünse nasıl ve hangi katmanlarda uygulanabilir?\n",
        "* Mümkündür. Pooling Layer, CovNet’teki ardışık convolutional katmanları arasına sıklıkla eklenen bir katmandır.r."
      ],
      "metadata": {
        "id": "kGHpehv8xqzn"
      }
    },
    {
      "cell_type": "markdown",
      "source": [
        "#5,5 bir imaja 3,3 lük bir filtre uygulandığında stride=1 olacak şekilde o-elde edilen outputun boyutunun 5,5 olması niçin ne yapabiliriz?\n",
        "* (((5-3)+2*X)/1)+1=5 olması  X=1 kalınlığında olması gerekir."
      ],
      "metadata": {
        "id": "AdlNqehpxlcs"
      }
    }
  ]
}