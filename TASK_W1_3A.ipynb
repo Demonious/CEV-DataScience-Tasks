{
  "nbformat": 4,
  "nbformat_minor": 0,
  "metadata": {
    "colab": {
      "provenance": [],
      "collapsed_sections": [],
      "authorship_tag": "ABX9TyNBjDVHdkrR89G/risz8d0M",
      "include_colab_link": true
    },
    "kernelspec": {
      "name": "python3",
      "display_name": "Python 3"
    },
    "language_info": {
      "name": "python"
    }
  },
  "cells": [
    {
      "cell_type": "markdown",
      "metadata": {
        "id": "view-in-github",
        "colab_type": "text"
      },
      "source": [
        "<a href=\"https://colab.research.google.com/github/Demonious/CEV-DataScience-Tasks/blob/main/TASK_W1_3A.ipynb\" target=\"_parent\"><img src=\"https://colab.research.google.com/assets/colab-badge.svg\" alt=\"Open In Colab\"/></a>"
      ]
    },
    {
      "cell_type": "markdown",
      "source": [
        "TASK-W1-3A: Write a piece of code that will generate numbers for a coupon in Sayisal Loto that should include 8 colons and each column should have 6 random numbers. Please control the colons in terms of having no repetitions."
      ],
      "metadata": {
        "id": "nCXZRbEvffz1"
      }
    },
    {
      "cell_type": "code",
      "source": [
        "import numpy as np\n",
        "import random\n",
        "loto_numbers = list(range(1,50))\n",
        "\n",
        "for k in range (8):\n",
        "  loto_numbers = list(range(1,50))\n",
        "  random.shuffle(loto_numbers)\n",
        "  picked_nums = loto_numbers[:6]\n",
        "  print(picked_nums)\n"
      ],
      "metadata": {
        "colab": {
          "base_uri": "https://localhost:8080/"
        },
        "id": "mDtMwZ5rnjp7",
        "outputId": "898291f1-eb91-4cec-ce68-e4fd25c505f4"
      },
      "execution_count": 106,
      "outputs": [
        {
          "output_type": "stream",
          "name": "stdout",
          "text": [
            "[14, 5, 38, 26, 10, 25]\n",
            "[46, 22, 18, 15, 28, 49]\n",
            "[13, 49, 3, 14, 10, 36]\n",
            "[40, 1, 24, 21, 36, 4]\n",
            "[30, 31, 44, 45, 8, 13]\n",
            "[9, 35, 14, 16, 32, 41]\n",
            "[44, 15, 28, 38, 9, 31]\n",
            "[46, 39, 11, 34, 23, 13]\n"
          ]
        }
      ]
    }
  ]
}