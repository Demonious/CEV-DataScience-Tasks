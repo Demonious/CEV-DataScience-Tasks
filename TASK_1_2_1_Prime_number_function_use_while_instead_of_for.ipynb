{
  "nbformat": 4,
  "nbformat_minor": 0,
  "metadata": {
    "colab": {
      "provenance": []
    },
    "kernelspec": {
      "name": "python3",
      "display_name": "Python 3"
    },
    "language_info": {
      "name": "python"
    }
  },
  "cells": [
    {
      "cell_type": "code",
      "execution_count": 5,
      "metadata": {
        "colab": {
          "base_uri": "https://localhost:8080/"
        },
        "id": "PYAObmyYLq9_",
        "outputId": "b4419710-8681-4e28-f262-0f987afed86a"
      },
      "outputs": [
        {
          "output_type": "stream",
          "name": "stdout",
          "text": [
            "False\n",
            "False\n",
            "True\n",
            "False\n"
          ]
        }
      ],
      "source": [
        "def is_prime(num):\n",
        "  i = 3\n",
        "  if (num<2):  \n",
        "    return False\n",
        "  elif (num==2):\n",
        "    return True\n",
        "  elif (num%2==0):\n",
        "    return False\n",
        "  while i<int(num/2):\n",
        "    if (num%i == 0):\n",
        "      return False\n",
        "    else:\n",
        "      i+=2\n",
        "  return True\n",
        "\n",
        "print(is_prime(8))\n",
        "print(is_prime(1))\n",
        "print(is_prime(2))\n",
        "print(is_prime(91))"
      ]
    }
  ]
}