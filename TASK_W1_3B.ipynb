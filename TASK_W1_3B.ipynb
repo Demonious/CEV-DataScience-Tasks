{
  "nbformat": 4,
  "nbformat_minor": 0,
  "metadata": {
    "colab": {
      "provenance": [],
      "collapsed_sections": [],
      "authorship_tag": "ABX9TyPFZdZ67s22qCsVcAN6Uxe/",
      "include_colab_link": true
    },
    "kernelspec": {
      "name": "python3",
      "display_name": "Python 3"
    },
    "language_info": {
      "name": "python"
    }
  },
  "cells": [
    {
      "cell_type": "markdown",
      "metadata": {
        "id": "view-in-github",
        "colab_type": "text"
      },
      "source": [
        "<a href=\"https://colab.research.google.com/github/Demonious/CEV-DataScience-Tasks/blob/main/TASK_W1_3B.ipynb\" target=\"_parent\"><img src=\"https://colab.research.google.com/assets/colab-badge.svg\" alt=\"Open In Colab\"/></a>"
      ]
    },
    {
      "cell_type": "markdown",
      "source": [
        "TASK-W1-3B: Please write a piece of code to find the names and order no of the presidents with the highest and the lowest heights."
      ],
      "metadata": {
        "id": "BZux9UDWwKYo"
      }
    },
    {
      "cell_type": "code",
      "source": [
        "import pandas as pd\n",
        "import numpy as np\n",
        "data = pd.read_csv('president_heights.csv')\n",
        "heights = np.array(data['height(cm)'])\n",
        "name = np.array(data['name'])\n",
        "\n",
        "en_uzunun_boyu = np.max(president_heights['height(cm)'])\n",
        "en_uzunun_ismi = np.max(president_heights['name'])\n",
        "en_kisanin_boyu = np.min(president_heights['height(cm)'])\n",
        "en_kisanin_ismi = np.min(president_heights['name'])\n",
        "\n",
        "print(\"En uzun başkanın ismi\" , en_uzunun_ismi,\"boyu\", en_uzunun_boyu, )\n",
        "print(\"En kısa başkanın ismi\", en_kisanin_ismi,\"boyu\", en_kisanin_boyu )\n",
        "\n"
      ],
      "metadata": {
        "colab": {
          "base_uri": "https://localhost:8080/"
        },
        "id": "5aJxDFRZwLxU",
        "outputId": "dfd8f72b-1aba-4846-baa7-1f3ddf2273a7"
      },
      "execution_count": 33,
      "outputs": [
        {
          "output_type": "stream",
          "name": "stdout",
          "text": [
            "En uzun başkanın ismi Zachary Taylor boyu 193\n",
            "En kısa başkanın ismi Abraham Lincoln boyu 163\n"
          ]
        }
      ]
    }
  ]
}